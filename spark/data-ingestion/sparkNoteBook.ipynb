{
 "cells": [
  {
   "cell_type": "code",
   "execution_count": 2,
   "outputs": [
    {
     "name": "stdout",
     "output_type": "stream",
     "text": [
      "root\n",
      " |-- Symbol: string (nullable = true)\n",
      " |-- Date: string (nullable = true)\n",
      " |-- Open: double (nullable = true)\n",
      " |-- High: double (nullable = true)\n",
      " |-- Low: double (nullable = true)\n",
      " |-- Close: double (nullable = true)\n",
      " |-- Volume: integer (nullable = true)\n",
      "\n",
      "+------+-----------+------+------+------+------+--------+\n",
      "|Symbol|       Date|  Open|  High|   Low| Close|  Volume|\n",
      "+------+-----------+------+------+------+------+--------+\n",
      "|  AACG|16-Feb-2022|   1.5|1.5751|   1.5|  1.55|   19500|\n",
      "| AACIW|16-Feb-2022|  0.32| 0.338|  0.32| 0.338|     900|\n",
      "|  AADI|16-Feb-2022| 19.93| 19.94| 19.22|  19.4|  107100|\n",
      "|  AADR|16-Feb-2022| 62.63|62.855| 62.31|62.855|    1900|\n",
      "|   AAL|16-Feb-2022| 18.57| 19.11|  18.5| 18.82|30557500|\n",
      "|  AAME|16-Feb-2022|   2.7|  2.87|   2.7|  2.78|    2800|\n",
      "|  AAOI|16-Feb-2022|  3.87|  4.39|  3.83|  4.31|  876600|\n",
      "|  AAON|16-Feb-2022| 59.92| 60.17| 59.22| 59.69|  236100|\n",
      "|  AAPL|16-Feb-2022|171.85|173.34|170.05|172.55|61177400|\n",
      "|  AATC|16-Feb-2022|  7.44|  7.65| 7.345|  7.65|   51500|\n",
      "|  AAWW|16-Feb-2022| 78.24|  80.0| 77.83| 79.07|  844300|\n",
      "|  AAXJ|16-Feb-2022| 82.09| 83.05|82.065| 82.76| 1201600|\n",
      "|  ABCB|16-Feb-2022| 50.65| 51.58| 50.65| 51.32|  283400|\n",
      "|  ABCL|16-Feb-2022|  9.98|  9.99|   9.7|   9.8| 1434500|\n",
      "|  ABCM|16-Feb-2022|  17.5|17.685| 17.31| 17.55|   68000|\n",
      "|  ABEO|16-Feb-2022|  0.26| 0.267|0.2455|0.2571|  730000|\n",
      "|  ABGI|16-Feb-2022|   9.7|  9.74|   9.7|  9.74|    1300|\n",
      "|  ABIO|16-Feb-2022|  1.86|  1.88|   1.8|  1.85|   56900|\n",
      "|  ABMD|16-Feb-2022|301.96|328.55|293.38|325.42| 1016400|\n",
      "|  ABNB|16-Feb-2022|178.29|191.73| 178.0|186.64|22252800|\n",
      "+------+-----------+------+------+------+------+--------+\n",
      "only showing top 20 rows\n",
      "\n"
     ]
    }
   ],
   "source": [
    "from collections import namedtuple\n",
    "\n",
    "from pyspark import SparkConf, SparkContext\n",
    "\n",
    "# conf = SparkConf().setAppName(\"Create RDD\")\n",
    "# conf = conf.setMaster(\"local[*]\")\n",
    "# spark = SparkContext(conf=conf)\n",
    "# spark.setLogLevel(\"ERROR\")\n",
    "\n",
    "# nasdaqRecords = spark.textFile(\"assets/NASDAQ_20220216.csv\")\n",
    "# nasdaqRecords.take(10)\n",
    "# nasdaqRecords.first()\n",
    "\n",
    "import pyspark.sql.functions as F\n",
    "from pyspark.sql import SparkSession\n",
    "\n",
    "# Start SparkSession\n",
    "spark = SparkSession.builder.appName(\"missingdata\").getOrCreate()\n",
    "\n",
    "df = spark.read.csv('assets/NASDAQ_20220216.csv', inferSchema=True, header=True)\n",
    "df.printSchema()\n",
    "df.show()\n",
    "\n",
    "\n",
    "namedtuple('Nasdaq')"
   ],
   "metadata": {
    "collapsed": false,
    "pycharm": {
     "name": "#%%\n"
    }
   }
  },
  {
   "cell_type": "code",
   "execution_count": null,
   "outputs": [],
   "source": [],
   "metadata": {
    "collapsed": false,
    "pycharm": {
     "name": "#%%\n"
    }
   }
  }
 ],
 "metadata": {
  "kernelspec": {
   "display_name": "Python 3",
   "language": "python",
   "name": "python3"
  },
  "language_info": {
   "codemirror_mode": {
    "name": "ipython",
    "version": 2
   },
   "file_extension": ".py",
   "mimetype": "text/x-python",
   "name": "python",
   "nbconvert_exporter": "python",
   "pygments_lexer": "ipython2",
   "version": "2.7.6"
  }
 },
 "nbformat": 4,
 "nbformat_minor": 0
}